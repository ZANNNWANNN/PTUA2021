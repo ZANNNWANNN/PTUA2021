{
 "cells": [
  {
   "cell_type": "code",
   "execution_count": 4,
   "metadata": {
    "scrolled": true
   },
   "outputs": [
    {
     "name": "stdout",
     "output_type": "stream",
     "text": [
      "covergence criterion: 0.001\n",
      "sentinel value: 10\n",
      "3.138542350623769\n",
      "3.1391076115485563\n",
      "3.139672131147541\n",
      "3.1402359108781126\n",
      "3.140798952193844\n",
      "3.1387434554973823\n",
      "3.1393067364290386\n",
      "3.1398692810457516\n",
      "3.140431090790333\n",
      "3.1409921671018277\n",
      "draw limit was exceeded\n",
      "the percentage difference between the current estimate of Pi and the true value is  0.019114078563917114 %\n"
     ]
    }
   ],
   "source": [
    "#Lab03-2\n",
    "#1\n",
    "import random\n",
    "import math\n",
    "import numpy as np\n",
    "import matplotlib.pyplot as plt\n",
    "\n",
    "pi = math.pi\n",
    "\n",
    "def piFunction(cc, sv):#cc means convergence criterion and sv means sentinel value\n",
    "    n = 0 # number of points falling in the unit circle\n",
    "    d = 0 # number of points falling in the unit square\n",
    "    count = 0\n",
    "    simulating = True \n",
    "    while simulating:\n",
    "        x = random.random()\n",
    "        y = random.random()\n",
    "        if x**2 + y**2 <= 1.0:\n",
    "            n += 1\n",
    "        d += 1\n",
    "        ratio = 4 * n * 1./d\n",
    "        if abs(ratio-pi) / pi <= cc:\n",
    "            print(ratio)\n",
    "            count = count + 1\n",
    "            if count >= sv:\n",
    "                print(\"draw limit was exceeded\")\n",
    "                print(\"the percentage difference between the current estimate of Pi and the true value is \",abs(ratio-pi)/pi*100,\"%\")\n",
    "                break\n",
    "cc=input(\"covergence criterion: \")\n",
    "cc=float(cc)\n",
    "sv=input(\"sentinel value: \")\n",
    "sv=int(sv)\n",
    "piFunction(cc,sv)"
   ]
  }
 ],
 "metadata": {
  "kernelspec": {
   "display_name": "Python 3",
   "language": "python",
   "name": "python3"
  },
  "language_info": {
   "codemirror_mode": {
    "name": "ipython",
    "version": 3
   },
   "file_extension": ".py",
   "mimetype": "text/x-python",
   "name": "python",
   "nbconvert_exporter": "python",
   "pygments_lexer": "ipython3",
   "version": "3.8.5"
  }
 },
 "nbformat": 4,
 "nbformat_minor": 4
}
