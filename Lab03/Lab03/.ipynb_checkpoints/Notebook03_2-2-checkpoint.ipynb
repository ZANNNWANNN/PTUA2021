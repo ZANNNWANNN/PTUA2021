{
 "cells": [
  {
   "cell_type": "code",
   "execution_count": 11,
   "metadata": {
    "scrolled": true
   },
   "outputs": [
    {
     "name": "stdout",
     "output_type": "stream",
     "text": [
      "when the convergence criterion is 0.01,\n",
      "average number of draws required from the 10 runs is 42.9\n",
      "standard deviation of the number of draws required from the 10 runs is 7.751773990513397\n",
      "-----------------------------------------------------------------------------------\n",
      "when the convergence criterion is 0.001,\n",
      "average number of draws required from the 10 runs is 395.75\n",
      "standard deviation of the number of draws required from the 10 runs is 519.2290318347001\n",
      "-----------------------------------------------------------------------------------\n",
      "when the convergence criterion is 0.0001,\n",
      "average number of draws required from the 10 runs is 619.5333333333333\n",
      "standard deviation of the number of draws required from the 10 runs is 534.6603116829309\n",
      "-----------------------------------------------------------------------------------\n",
      "when the convergence criterion is 0.00001,\n",
      "average number of draws required from the 10 runs is 78375.025\n",
      "standard deviation of the number of draws required from the 10 runs is 134677.25810720373\n",
      "-----------------------------------------------------------------------------------\n"
     ]
    }
   ],
   "source": [
    "#Lab03-2\n",
    "#2\n",
    "import random\n",
    "import math\n",
    "import numpy as np\n",
    "import matplotlib.pyplot as plt\n",
    "\n",
    "pi = math.pi\n",
    "\n",
    "\n",
    "simu_pi=[]\n",
    "draw=[]\n",
    "def Function(cc):\n",
    "    run = 0\n",
    "    n = 0 # number of points falling in the unit circle\n",
    "    d = 0 # number of points falling in the unit square\n",
    "    while run < 10:\n",
    "        simulating = True # use as a sentinel\n",
    "        while simulating:\n",
    "            x = random.random()\n",
    "            y = random.random()\n",
    "            if x**2 + y**2 <= 1.0:\n",
    "                n += 1\n",
    "            d += 1\n",
    "            ratio = 4 * n * 1./d\n",
    "            if abs(ratio-pi) / pi <= cc:\n",
    "                simu_pi.append(ratio)\n",
    "                draw.append(d)\n",
    "                break\n",
    "        run+=1\n",
    "    print(\"average number of draws required from the 10 runs is\",np.mean(draw))\n",
    "    print(\"standard deviation of the number of draws required from the 10 runs is\",np.std(draw))\n",
    "\n",
    "print(\"when the convergence criterion is 0.01,\")            \n",
    "Function(0.01)\n",
    "print(\"-----------------------------------------------------------------------------------\")\n",
    "print(\"when the convergence criterion is 0.001,\")   \n",
    "Function(0.001)\n",
    "print(\"-----------------------------------------------------------------------------------\")\n",
    "print(\"when the convergence criterion is 0.0001,\")   \n",
    "Function(0.0001)\n",
    "print(\"-----------------------------------------------------------------------------------\")\n",
    "print(\"when the convergence criterion is 0.00001,\")   \n",
    "Function(0.00001)\n",
    "print(\"-----------------------------------------------------------------------------------\")\n",
    "\n",
    "\n"
   ]
  }
 ],
 "metadata": {
  "kernelspec": {
   "display_name": "Python 3",
   "language": "python",
   "name": "python3"
  },
  "language_info": {
   "codemirror_mode": {
    "name": "ipython",
    "version": 3
   },
   "file_extension": ".py",
   "mimetype": "text/x-python",
   "name": "python",
   "nbconvert_exporter": "python",
   "pygments_lexer": "ipython3",
   "version": "3.8.5"
  }
 },
 "nbformat": 4,
 "nbformat_minor": 4
}
