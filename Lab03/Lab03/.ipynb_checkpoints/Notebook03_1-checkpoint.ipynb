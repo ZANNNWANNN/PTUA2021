{
 "cells": [
  {
   "cell_type": "code",
   "execution_count": 4,
   "metadata": {},
   "outputs": [
    {
     "name": "stdout",
     "output_type": "stream",
     "text": [
      "42\n"
     ]
    }
   ],
   "source": [
    "#Exercises c2-1\n",
    "n=42\n",
    "print(n)"
   ]
  },
  {
   "cell_type": "code",
   "execution_count": 5,
   "metadata": {},
   "outputs": [
    {
     "ename": "SyntaxError",
     "evalue": "cannot assign to literal (<ipython-input-5-4c9a6d8d8adf>, line 1)",
     "output_type": "error",
     "traceback": [
      "\u001b[1;36m  File \u001b[1;32m\"<ipython-input-5-4c9a6d8d8adf>\"\u001b[1;36m, line \u001b[1;32m1\u001b[0m\n\u001b[1;33m    42=n\u001b[0m\n\u001b[1;37m    ^\u001b[0m\n\u001b[1;31mSyntaxError\u001b[0m\u001b[1;31m:\u001b[0m cannot assign to literal\n"
     ]
    }
   ],
   "source": [
    "42=n\n",
    "print(n)"
   ]
  },
  {
   "cell_type": "code",
   "execution_count": 6,
   "metadata": {},
   "outputs": [
    {
     "name": "stdout",
     "output_type": "stream",
     "text": [
      "1\n",
      "1\n"
     ]
    }
   ],
   "source": [
    "x=y=1\n",
    "print(x)\n",
    "print(y)"
   ]
  },
  {
   "cell_type": "code",
   "execution_count": 7,
   "metadata": {},
   "outputs": [
    {
     "name": "stdout",
     "output_type": "stream",
     "text": [
      "42\n"
     ]
    }
   ],
   "source": [
    "n = 42;\n",
    "print(n);"
   ]
  },
  {
   "cell_type": "code",
   "execution_count": 8,
   "metadata": {},
   "outputs": [
    {
     "ename": "SyntaxError",
     "evalue": "invalid syntax (<ipython-input-8-720a6df84821>, line 2)",
     "output_type": "error",
     "traceback": [
      "\u001b[1;36m  File \u001b[1;32m\"<ipython-input-8-720a6df84821>\"\u001b[1;36m, line \u001b[1;32m2\u001b[0m\n\u001b[1;33m    print(n).\u001b[0m\n\u001b[1;37m             ^\u001b[0m\n\u001b[1;31mSyntaxError\u001b[0m\u001b[1;31m:\u001b[0m invalid syntax\n"
     ]
    }
   ],
   "source": [
    "n=42.\n",
    "print(n)."
   ]
  },
  {
   "cell_type": "code",
   "execution_count": 9,
   "metadata": {
    "scrolled": true
   },
   "outputs": [
    {
     "name": "stdout",
     "output_type": "stream",
     "text": [
      "The volume of a sphere with 5 is 523.5987666666666\n",
      "total cost is 945.4500000000012\n",
      "After 37 minute I will come back home\n"
     ]
    }
   ],
   "source": [
    "#Exercise c2-2\n",
    "radius= 5\n",
    "pi=3.1415926\n",
    "volume=4/3*pi*radius**3\n",
    "print(\"The volume of a sphere with 5 is\", volume)\n",
    "\n",
    "#2-2\n",
    "i=1\n",
    "cost=0\n",
    "cp=24.95\n",
    "sc=3\n",
    "ac=0.75\n",
    "discount=0.6\n",
    "while i<=60:\n",
    "    if i==1:\n",
    "        cost=cost+sc+cp*discount\n",
    "    else:\n",
    "        cost=cost+ac+cp*discount\n",
    "       \n",
    "    i+=1\n",
    "print(\"total cost is\",cost)\n",
    "\n",
    "#2-3\n",
    "ep=8.15\n",
    "tempo=7.12\n",
    "time=ep*1+3*tempo+ep*1\n",
    "print(\"After %d minute I will come back home\"%time)\n"
   ]
  },
  {
   "cell_type": "code",
   "execution_count": 3,
   "metadata": {},
   "outputs": [],
   "source": [
    "#1-5 chapter 8"
   ]
  },
  {
   "cell_type": "code",
   "execution_count": 10,
   "metadata": {},
   "outputs": [
    {
     "name": "stdout",
     "output_type": "stream",
     "text": [
      "3\n"
     ]
    }
   ],
   "source": [
    "#ex2\n",
    "def countFunction(word, x):\n",
    "    count = 0\n",
    "    for letter in word:\n",
    "        if letter == x:\n",
    "            count = count + 1\n",
    "    print(count)\n",
    "countFunction(\"banana\", \"a\")"
   ]
  },
  {
   "cell_type": "code",
   "execution_count": 11,
   "metadata": {},
   "outputs": [
    {
     "name": "stdout",
     "output_type": "stream",
     "text": [
      "True\n"
     ]
    }
   ],
   "source": [
    "#ex3\n",
    "def is_palindrome(word):\n",
    "    new_word = word[::-1]\n",
    "    if new_word == word:\n",
    "        return True\n",
    "    else:\n",
    "        return False\n",
    "print(is_palindrome(\"malayalam\"))"
   ]
  },
  {
   "cell_type": "code",
   "execution_count": 16,
   "metadata": {},
   "outputs": [
    {
     "name": "stdout",
     "output_type": "stream",
     "text": [
      "False\n",
      "True\n"
     ]
    }
   ],
   "source": [
    "#ex4\n",
    "#check whether a string contains any lowercase letters\n",
    "def any_lowercase1(s):\n",
    "    for c in s:\n",
    "        if c.islower():\n",
    "            return True\n",
    "        else:\n",
    "            return False\n",
    "#the first one could do it\n",
    "\n",
    "def any_lowercase2(s):\n",
    "    for c in s:\n",
    "        if 'c'.islower():\n",
    "            return 'True'\n",
    "        else:\n",
    "            return 'False'\n",
    "#the second one will always has True as reult for 'c' is lowercase anytime\n",
    "\n",
    "def any_lowercase3(s):\n",
    "    for c in s:\n",
    "        flag = c.islower()\n",
    "    return flag\n",
    "print(any_lowercase3(\"faLsE\"))\n",
    "#if the last letter is uppercase, the result will always be False\n",
    "\n",
    "def any_lowercase4(s):\n",
    "    flag = False\n",
    "    for c in s:\n",
    "        flag = flag or c.islower()\n",
    "    return flag\n",
    "print(any_lowercase4(\"FALsE\"))\n",
    "#the fourth one could accomplish the goal\n",
    "\n",
    "def any_lowercase5(s):\n",
    "    for c in s:\n",
    "        if not c.islower():\n",
    "            return False\n",
    "    return True\n",
    "#the ruselt will be False if there is at least one uppercase character"
   ]
  },
  {
   "cell_type": "code",
   "execution_count": 12,
   "metadata": {},
   "outputs": [
    {
     "name": "stdout",
     "output_type": "stream",
     "text": [
      "bunny\n"
     ]
    }
   ],
   "source": [
    "#ex5\n",
    "def rotate_letter(letter, n):\n",
    "    if letter.isupper():\n",
    "        start = ord('A')\n",
    "    elif letter.islower():\n",
    "        start = ord('a')\n",
    "    else:\n",
    "        return letter\n",
    "    c = ord(letter) - start\n",
    "    i = (c + n) % 26 + start\n",
    "    return chr(i)\n",
    "\n",
    "def rotate_word(word, n):\n",
    "    res = ''\n",
    "    for letter in word:\n",
    "        res += rotate_letter(letter, n)\n",
    "    return res\n",
    "\n",
    "print(rotate_word('sleep', 9))"
   ]
  }
 ],
 "metadata": {
  "kernelspec": {
   "display_name": "Python 3",
   "language": "python",
   "name": "python3"
  },
  "language_info": {
   "codemirror_mode": {
    "name": "ipython",
    "version": 3
   },
   "file_extension": ".py",
   "mimetype": "text/x-python",
   "name": "python",
   "nbconvert_exporter": "python",
   "pygments_lexer": "ipython3",
   "version": "3.8.5"
  }
 },
 "nbformat": 4,
 "nbformat_minor": 4
}
