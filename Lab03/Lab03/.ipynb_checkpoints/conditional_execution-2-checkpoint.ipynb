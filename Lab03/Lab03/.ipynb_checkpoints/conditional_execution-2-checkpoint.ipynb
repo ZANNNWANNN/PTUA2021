{
 "cells": [
  {
   "cell_type": "code",
   "execution_count": 18,
   "metadata": {},
   "outputs": [
    {
     "name": "stdout",
     "output_type": "stream",
     "text": [
      "The volume of a sphere with 5 is 523.5987666666666\n",
      "total cost is  945.4500000000012\n",
      "after %time minute I GET HOME 37.66\n"
     ]
    }
   ],
   "source": [
    "#1-2 chapter 2\n",
    "#2-1\n",
    "radius= 5\n",
    "pi=3.1415926\n",
    "volume=4/3*pi*radius**3\n",
    "print(\"The volume of a sphere with 5 is\", volume)\n",
    "#2-2\n",
    "i=1\n",
    "cost=0\n",
    "cp=24.95\n",
    "sc=3\n",
    "ac=0.75\n",
    "discount=0.6\n",
    "while i<=60:\n",
    "    if i==1:\n",
    "        cost=cost+sc+cp*discount\n",
    "    else:\n",
    "        cost=cost+ac+cp*discount\n",
    "       \n",
    "    i+=1\n",
    "print(\"total cost is \",cost)\n",
    "#2-3\n",
    "ep=8.15\n",
    "tempo=7.12\n",
    "time=ep*1+3*tempo+ep*1\n",
    "print(\"after %time minute I GET HOME\",time)\n"
   ]
  },
  {
   "cell_type": "code",
   "execution_count": 8,
   "metadata": {},
   "outputs": [],
   "source": [
    "#1-5 chapter 8"
   ]
  },
  {
   "cell_type": "code",
   "execution_count": 22,
   "metadata": {},
   "outputs": [
    {
     "name": "stdout",
     "output_type": "stream",
     "text": [
      "jolly\n",
      "cubed\n",
      "bunny\n"
     ]
    }
   ],
   "source": [
    "def rotate_letter(letter, n):\n",
    "    if letter.isupper():\n",
    "        start = ord('A')\n",
    "    elif letter.islower():\n",
    "        start = ord('a')\n",
    "    else:\n",
    "        return letter\n",
    "\n",
    "    c = ord(letter) - start\n",
    "    i = (c + n) % 26 + start\n",
    "    return chr(i)\n",
    "\n",
    "\n",
    "def rotate_word(word, n):\n",
    "    res = ''\n",
    "    for letter in word:\n",
    "        res += rotate_letter(letter, n)\n",
    "    return res\n",
    "\n",
    "\n",
    "print(rotate_word('cheer', 7))\n",
    "print(rotate_word('melon', -10))\n",
    "print(rotate_word('sleep', 9))"
   ]
  },
  {
   "cell_type": "code",
   "execution_count": 19,
   "metadata": {},
   "outputs": [
    {
     "name": "stdout",
     "output_type": "stream",
     "text": [
      "3\n"
     ]
    }
   ],
   "source": []
  },
  {
   "cell_type": "code",
   "execution_count": null,
   "metadata": {},
   "outputs": [],
   "source": []
  }
 ],
 "metadata": {
  "kernelspec": {
   "display_name": "Python 3",
   "language": "python",
   "name": "python3"
  },
  "language_info": {
   "codemirror_mode": {
    "name": "ipython",
    "version": 3
   },
   "file_extension": ".py",
   "mimetype": "text/x-python",
   "name": "python",
   "nbconvert_exporter": "python",
   "pygments_lexer": "ipython3",
   "version": "3.8.5"
  }
 },
 "nbformat": 4,
 "nbformat_minor": 4
}
